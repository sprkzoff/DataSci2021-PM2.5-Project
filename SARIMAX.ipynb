{
  "nbformat": 4,
  "nbformat_minor": 0,
  "metadata": {
    "colab": {
      "name": "SARIMAX.ipynb",
      "provenance": [],
      "collapsed_sections": []
    },
    "kernelspec": {
      "name": "python3",
      "display_name": "Python 3"
    },
    "language_info": {
      "name": "python"
    }
  },
  "cells": [
    {
      "cell_type": "markdown",
      "metadata": {
        "id": "irceOHsCwTfQ"
      },
      "source": [
        "# Import modules"
      ]
    },
    {
      "cell_type": "code",
      "metadata": {
        "colab": {
          "base_uri": "https://localhost:8080/"
        },
        "id": "bTFf7xd3YezG",
        "outputId": "c1872927-b9da-458e-fe4a-424ea38b4b6e"
      },
      "source": [
        "import pandas as pd\n",
        "from pandas.plotting import autocorrelation_plot\n",
        "from statsmodels.tsa.arima_model import ARIMA\n",
        "from sklearn.metrics import mean_squared_error\n",
        "from statsmodels.tsa.statespace.sarimax import SARIMAX\n",
        "import numpy as np\n",
        "import matplotlib.pyplot as plt\n",
        "import os\n",
        "from tqdm.notebook import tqdm\n",
        "from math import sqrt\n",
        "import itertools"
      ],
      "execution_count": null,
      "outputs": [
        {
          "output_type": "stream",
          "text": [
            "/usr/local/lib/python3.7/dist-packages/statsmodels/tools/_testing.py:19: FutureWarning: pandas.util.testing is deprecated. Use the functions in the public API at pandas.testing instead.\n",
            "  import pandas.util.testing as tm\n"
          ],
          "name": "stderr"
        }
      ]
    },
    {
      "cell_type": "markdown",
      "metadata": {
        "id": "DBw-Z-DeuVf7"
      },
      "source": [
        "# Load data"
      ]
    },
    {
      "cell_type": "code",
      "metadata": {
        "colab": {
          "base_uri": "https://localhost:8080/"
        },
        "id": "YvVvzJaNez3R",
        "outputId": "60d63a6d-8aee-4bcb-f369-ad43dd9243c4"
      },
      "source": [
        "!unzip data.zip"
      ],
      "execution_count": null,
      "outputs": [
        {
          "output_type": "stream",
          "text": [
            "Archive:  data.zip\n",
            "   creating: Train/\n",
            "  inflating: Train/bangkok_Train.csv  \n",
            "  inflating: Train/chiangmai_Train.csv  \n",
            "  inflating: Train/chanthaburi_Train.csv  \n",
            "  inflating: Train/songkhla_Train.csv  \n",
            "  inflating: Train/khonkaen_Train.csv  \n",
            "  inflating: Train/kanchanaburi_Train.csv  \n",
            "   creating: Test/\n",
            "  inflating: Test/kanchanaburi_Test.csv  \n",
            "  inflating: Test/chiangmai_Test.csv  \n",
            "  inflating: Test/chanthaburi_Test.csv  \n",
            "  inflating: Test/khonkaen_Test.csv  \n",
            "  inflating: Test/bangkok_Test.csv   \n",
            "  inflating: Test/songkhla_Test.csv  \n"
          ],
          "name": "stdout"
        }
      ]
    },
    {
      "cell_type": "markdown",
      "metadata": {
        "id": "aGD3x5GouboC"
      },
      "source": [
        "# ARIMA POC"
      ]
    },
    {
      "cell_type": "code",
      "metadata": {
        "colab": {
          "base_uri": "https://localhost:8080/",
          "height": 202
        },
        "id": "VVsqnpV7eNJR",
        "outputId": "5df219bf-9c80-4dc4-c629-7dbb410c3f28"
      },
      "source": [
        "df_bkk = pd.read_csv('data/Train/bangkok_Train.csv')\n",
        "df_bkk.head(5)"
      ],
      "execution_count": null,
      "outputs": [
        {
          "output_type": "execute_result",
          "data": {
            "text/html": [
              "<div>\n",
              "<style scoped>\n",
              "    .dataframe tbody tr th:only-of-type {\n",
              "        vertical-align: middle;\n",
              "    }\n",
              "\n",
              "    .dataframe tbody tr th {\n",
              "        vertical-align: top;\n",
              "    }\n",
              "\n",
              "    .dataframe thead th {\n",
              "        text-align: right;\n",
              "    }\n",
              "</style>\n",
              "<table border=\"1\" class=\"dataframe\">\n",
              "  <thead>\n",
              "    <tr style=\"text-align: right;\">\n",
              "      <th></th>\n",
              "      <th>datetime</th>\n",
              "      <th>Temp(C)</th>\n",
              "      <th>lat</th>\n",
              "      <th>long</th>\n",
              "      <th>WindDir</th>\n",
              "      <th>Wind Speed(km/h)</th>\n",
              "      <th>PM2.5</th>\n",
              "    </tr>\n",
              "  </thead>\n",
              "  <tbody>\n",
              "    <tr>\n",
              "      <th>0</th>\n",
              "      <td>2016-03-03 15:00:00</td>\n",
              "      <td>32.55</td>\n",
              "      <td>12.6096</td>\n",
              "      <td>102.1045</td>\n",
              "      <td>60.000000</td>\n",
              "      <td>10.500000</td>\n",
              "      <td>44.2</td>\n",
              "    </tr>\n",
              "    <tr>\n",
              "      <th>1</th>\n",
              "      <td>2016-03-03 16:00:00</td>\n",
              "      <td>31.70</td>\n",
              "      <td>12.6096</td>\n",
              "      <td>102.1045</td>\n",
              "      <td>55.000000</td>\n",
              "      <td>10.000000</td>\n",
              "      <td>44.2</td>\n",
              "    </tr>\n",
              "    <tr>\n",
              "      <th>2</th>\n",
              "      <td>2016-03-03 17:00:00</td>\n",
              "      <td>30.20</td>\n",
              "      <td>12.6096</td>\n",
              "      <td>102.1045</td>\n",
              "      <td>58.333333</td>\n",
              "      <td>12.333333</td>\n",
              "      <td>44.3</td>\n",
              "    </tr>\n",
              "    <tr>\n",
              "      <th>3</th>\n",
              "      <td>2016-03-03 18:00:00</td>\n",
              "      <td>28.70</td>\n",
              "      <td>12.6096</td>\n",
              "      <td>102.1045</td>\n",
              "      <td>61.666667</td>\n",
              "      <td>14.666667</td>\n",
              "      <td>44.2</td>\n",
              "    </tr>\n",
              "    <tr>\n",
              "      <th>4</th>\n",
              "      <td>2016-03-03 19:00:00</td>\n",
              "      <td>27.20</td>\n",
              "      <td>12.6096</td>\n",
              "      <td>102.1045</td>\n",
              "      <td>65.000000</td>\n",
              "      <td>17.000000</td>\n",
              "      <td>34.2</td>\n",
              "    </tr>\n",
              "  </tbody>\n",
              "</table>\n",
              "</div>"
            ],
            "text/plain": [
              "              datetime  Temp(C)      lat  ...    WindDir  Wind Speed(km/h)  PM2.5\n",
              "0  2016-03-03 15:00:00    32.55  12.6096  ...  60.000000         10.500000   44.2\n",
              "1  2016-03-03 16:00:00    31.70  12.6096  ...  55.000000         10.000000   44.2\n",
              "2  2016-03-03 17:00:00    30.20  12.6096  ...  58.333333         12.333333   44.3\n",
              "3  2016-03-03 18:00:00    28.70  12.6096  ...  61.666667         14.666667   44.2\n",
              "4  2016-03-03 19:00:00    27.20  12.6096  ...  65.000000         17.000000   34.2\n",
              "\n",
              "[5 rows x 7 columns]"
            ]
          },
          "metadata": {
            "tags": []
          },
          "execution_count": 6
        }
      ]
    },
    {
      "cell_type": "code",
      "metadata": {
        "colab": {
          "base_uri": "https://localhost:8080/",
          "height": 301
        },
        "id": "kK7q2UaPeZZ3",
        "outputId": "3d359dac-596b-404c-ccad-1d7d811b1302"
      },
      "source": [
        "autocorrelation_plot(df_bkk['PM2.5'])"
      ],
      "execution_count": null,
      "outputs": [
        {
          "output_type": "execute_result",
          "data": {
            "text/plain": [
              "<matplotlib.axes._subplots.AxesSubplot at 0x7f1d4ca52a90>"
            ]
          },
          "metadata": {
            "tags": []
          },
          "execution_count": 7
        },
        {
          "output_type": "display_data",
          "data": {
            "image/png": "[encoded data removed]",
            "text/plain": [
              "<Figure size 432x288 with 1 Axes>"
            ]
          },
          "metadata": {
            "tags": [],
            "needs_background": "light"
          }
        }
      ]
    },
    {
      "cell_type": "code",
      "metadata": {
        "colab": {
          "base_uri": "https://localhost:8080/"
        },
        "id": "QvvdcDAmHkOH",
        "outputId": "202dd4bf-b032-48ac-873c-dc4f1f29f6f1"
      },
      "source": [
        "model_bkk = ARIMA(df_bkk['PM2.5'], order=(4, 1, 0))\n",
        "model_bkk_fit = model_bkk.fit(disp=0)\n",
        "print(model_bkk_fit.summary())"
      ],
      "execution_count": null,
      "outputs": [
        {
          "output_type": "stream",
          "text": [
            "                             ARIMA Model Results                              \n",
            "==============================================================================\n",
            "Dep. Variable:                D.PM2.5   No. Observations:                25135\n",
            "Model:                 ARIMA(4, 1, 0)   Log Likelihood              -65814.520\n",
            "Method:                       css-mle   S.D. of innovations              3.318\n",
            "Date:                Fri, 16 Apr 2021   AIC                         131641.040\n",
            "Time:                        18:58:40   BIC                         131689.832\n",
            "Sample:                             1   HQIC                        131656.828\n",
            "                                                                              \n",
            "=================================================================================\n",
            "                    coef    std err          z      P>|z|      [0.025      0.975]\n",
            "---------------------------------------------------------------------------------\n",
            "const            -0.0004      0.016     -0.025      0.980      -0.031       0.030\n",
            "ar.L1.D.PM2.5     0.0245      0.006      3.919      0.000       0.012       0.037\n",
            "ar.L2.D.PM2.5    -0.1629      0.006    -26.114      0.000      -0.175      -0.151\n",
            "ar.L3.D.PM2.5    -0.0808      0.006    -12.957      0.000      -0.093      -0.069\n",
            "ar.L4.D.PM2.5    -0.1251      0.006    -19.989      0.000      -0.137      -0.113\n",
            "                                    Roots                                    \n",
            "=============================================================================\n",
            "                  Real          Imaginary           Modulus         Frequency\n",
            "-----------------------------------------------------------------------------\n",
            "AR.1            0.9036           -1.2532j            1.5450           -0.1506\n",
            "AR.2            0.9036           +1.2532j            1.5450            0.1506\n",
            "AR.3           -1.2266           -1.3580j            1.8300           -0.3669\n",
            "AR.4           -1.2266           +1.3580j            1.8300            0.3669\n",
            "-----------------------------------------------------------------------------\n"
          ],
          "name": "stdout"
        }
      ]
    },
    {
      "cell_type": "code",
      "metadata": {
        "colab": {
          "base_uri": "https://localhost:8080/"
        },
        "id": "j1mo_nGSJnIA",
        "outputId": "4a013877-328f-4b2d-b2b4-a0f468877723"
      },
      "source": [
        "residuals = pd.DataFrame(model_bkk_fit.resid)\n",
        "residuals.plot()\n",
        "plt.show()\n",
        "\n",
        "residuals.plot(kind='kde')\n",
        "plt.show()\n",
        "print(residuals.describe())"
      ],
      "execution_count": null,
      "outputs": [
        {
          "output_type": "display_data",
          "data": {
            "image/png": "[encoded data removed]",
            "text/plain": [
              "<Figure size 432x288 with 1 Axes>"
            ]
          },
          "metadata": {
            "tags": [],
            "needs_background": "light"
          }
        },
        {
          "output_type": "display_data",
          "data": {
            "image/png": "[encoded data removed]",
            "text/plain": [
              "<Figure size 432x288 with 1 Axes>"
            ]
          },
          "metadata": {
            "tags": [],
            "needs_background": "light"
          }
        },
        {
          "output_type": "stream",
          "text": [
            "                  0\n",
            "count  25135.000000\n",
            "mean      -0.000050\n",
            "std        3.318533\n",
            "min      -26.478907\n",
            "25%       -1.721907\n",
            "50%       -0.086366\n",
            "75%        1.629214\n",
            "max       28.798884\n"
          ],
          "name": "stdout"
        }
      ]
    },
    {
      "cell_type": "markdown",
      "metadata": {
        "id": "d6O-0mBFufwV"
      },
      "source": [
        "# Training"
      ]
    },
    {
      "cell_type": "code",
      "metadata": {
        "id": "6eOcYseXJ_9A"
      },
      "source": [
        "all_provinces = [('Chanthaburi','Chanthaburi'),('Chiang Mai','Chiang_Mai'),('Kanchanaburi','Kanchanaburi'),('Bangkok','Bangkok'),('Khon Kaen','Khon_Kaen'),('Songkhla','Songkhla')]\n",
        "pred = []\n",
        "\n",
        "fmt_prv = ['chanthaburi','chiangmai','kanchanaburi','bangkok','khonkaen','songkhla']\n",
        "\n",
        "all_pm = []\n",
        "all_pm_Test = []\n",
        "\n",
        "all_exog = []\n",
        "for i in range(6) :\n",
        "    all_exog.append([])\n",
        "\n",
        "all_exog_Test = []\n",
        "for i in range(6) :\n",
        "    all_exog_Test.append([])\n",
        "\n",
        "for i in range(len(fmt_prv)) :\n",
        "    \n",
        "    # Train\n",
        "    df = pd.read_csv('Train/'+fmt_prv[i]+'_Train.csv')\n",
        "    all_exog[i].append(list(df['Temp(C)']))\n",
        "    all_exog[i].append(list(df['WindDir']))\n",
        "    all_exog[i].append(list(df['Wind Speed(km/h)']))\n",
        "    all_pm.append(list(df['PM2.5']))\n",
        "\n",
        "    # Test\n",
        "    df = pd.read_csv('Test/'+fmt_prv[i]+'_Test.csv')\n",
        "    all_exog_Test[i].append(list(df['Temp(C)']))\n",
        "    all_exog_Test[i].append(list(df['WindDir']))\n",
        "    all_exog_Test[i].append(list(df['Wind Speed(km/h)']))\n",
        "    all_pm_Test.append(list(df['PM2.5']))\n",
        "\n",
        "order = (4,1,4)\n",
        "for i in range(len(fmt_prv)) :\n",
        "    print(fmt_prv[i])\n",
        "    exogx = np.array(all_exog[i][:]).T\n",
        "\n",
        "    each_pred = []\n",
        "    each_label = []\n",
        "    exogx_test = np.array(all_exog_Test[i][:]).T\n",
        "    pm_model = SARIMAX(all_pm[i],\n",
        "                    order=order,\n",
        "                    # seasonal_order=(1, 0, 0, 12),\n",
        "                    exog=exogx,\n",
        "                    enforce_stationarity=False,\n",
        "                    enforce_invertibility=False\n",
        "    )\n",
        "    res = pm_model.fit()\n",
        "    if exogx_test.shape[0] < 1454*72 :\n",
        "        exogx_test = np.concatenate((exogx_test, np.array([list(exogx_test.mean(axis=0))] * ((1454*72)-exogx_test.shape[0]))), axis=0)\n",
        "    \n",
        "    for j in tqdm(range(1454)) :\n",
        "        output = res.forecast(72 ,exog=exogx_test[6*j:6*j+72] ,dynamic=False)\n",
        "        \n",
        "        # add data for creating new model\n",
        "        all_pm[i] += all_pm_Test[i][6*j:6*j+6]\n",
        "        exogx = np.concatenate((exogx, exogx_test[6*j:6*j+6]), axis=0)\n",
        "        each_pred += list(output)\n",
        "        \n",
        "        each_label += list(all_pm_Test[i][6*j:6*j+72])\n",
        "\n",
        "    # RMS\n",
        "    rms = sqrt(mean_squared_error(each_label, each_pred))\n",
        "    print(\"RMS\",rms)\n",
        "\n",
        "    pred += each_pred"
      ],
      "execution_count": null,
      "outputs": []
    },
    {
      "cell_type": "markdown",
      "metadata": {
        "id": "mBgSKzm4uzIj"
      },
      "source": [
        "# Format output"
      ]
    },
    {
      "cell_type": "code",
      "metadata": {
        "colab": {
          "base_uri": "https://localhost:8080/",
          "height": 415
        },
        "id": "A2BbsBcNbDFE",
        "outputId": "eaee7035-68b8-4002-a95e-64c52c735690"
      },
      "source": [
        "out_df = pd.DataFrame(np.array([[ i for i in range(len(pred))],pred]).T,columns=['Id','Expected'])\n",
        "out_df['Id'] =  out_df['Id'].apply(lambda x : int(x+1))\n",
        "out_df"
      ],
      "execution_count": null,
      "outputs": [
        {
          "output_type": "execute_result",
          "data": {
            "text/html": [
              "<div>\n",
              "<style scoped>\n",
              "    .dataframe tbody tr th:only-of-type {\n",
              "        vertical-align: middle;\n",
              "    }\n",
              "\n",
              "    .dataframe tbody tr th {\n",
              "        vertical-align: top;\n",
              "    }\n",
              "\n",
              "    .dataframe thead th {\n",
              "        text-align: right;\n",
              "    }\n",
              "</style>\n",
              "<table border=\"1\" class=\"dataframe\">\n",
              "  <thead>\n",
              "    <tr style=\"text-align: right;\">\n",
              "      <th></th>\n",
              "      <th>Id</th>\n",
              "      <th>Expected</th>\n",
              "    </tr>\n",
              "  </thead>\n",
              "  <tbody>\n",
              "    <tr>\n",
              "      <th>0</th>\n",
              "      <td>1</td>\n",
              "      <td>128.667170</td>\n",
              "    </tr>\n",
              "    <tr>\n",
              "      <th>1</th>\n",
              "      <td>2</td>\n",
              "      <td>124.907576</td>\n",
              "    </tr>\n",
              "    <tr>\n",
              "      <th>2</th>\n",
              "      <td>3</td>\n",
              "      <td>121.077520</td>\n",
              "    </tr>\n",
              "    <tr>\n",
              "      <th>3</th>\n",
              "      <td>4</td>\n",
              "      <td>115.198572</td>\n",
              "    </tr>\n",
              "    <tr>\n",
              "      <th>4</th>\n",
              "      <td>5</td>\n",
              "      <td>110.041611</td>\n",
              "    </tr>\n",
              "    <tr>\n",
              "      <th>...</th>\n",
              "      <td>...</td>\n",
              "      <td>...</td>\n",
              "    </tr>\n",
              "    <tr>\n",
              "      <th>628123</th>\n",
              "      <td>628124</td>\n",
              "      <td>29.571174</td>\n",
              "    </tr>\n",
              "    <tr>\n",
              "      <th>628124</th>\n",
              "      <td>628125</td>\n",
              "      <td>29.571174</td>\n",
              "    </tr>\n",
              "    <tr>\n",
              "      <th>628125</th>\n",
              "      <td>628126</td>\n",
              "      <td>29.571174</td>\n",
              "    </tr>\n",
              "    <tr>\n",
              "      <th>628126</th>\n",
              "      <td>628127</td>\n",
              "      <td>29.571174</td>\n",
              "    </tr>\n",
              "    <tr>\n",
              "      <th>628127</th>\n",
              "      <td>628128</td>\n",
              "      <td>29.571174</td>\n",
              "    </tr>\n",
              "  </tbody>\n",
              "</table>\n",
              "<p>628128 rows × 2 columns</p>\n",
              "</div>"
            ],
            "text/plain": [
              "            Id    Expected\n",
              "0            1  128.667170\n",
              "1            2  124.907576\n",
              "2            3  121.077520\n",
              "3            4  115.198572\n",
              "4            5  110.041611\n",
              "...        ...         ...\n",
              "628123  628124   29.571174\n",
              "628124  628125   29.571174\n",
              "628125  628126   29.571174\n",
              "628126  628127   29.571174\n",
              "628127  628128   29.571174\n",
              "\n",
              "[628128 rows x 2 columns]"
            ]
          },
          "metadata": {
            "tags": []
          },
          "execution_count": 76
        }
      ]
    },
    {
      "cell_type": "markdown",
      "metadata": {
        "id": "WycSjX-GvPl6"
      },
      "source": [
        "# Export csv"
      ]
    },
    {
      "cell_type": "code",
      "metadata": {
        "id": "RdCjpbD-l2sL"
      },
      "source": [
        "out_df.to_csv('submission.csv',index=False)"
      ],
      "execution_count": null,
      "outputs": []
    }
  ]
}