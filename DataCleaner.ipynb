{
  "nbformat": 4,
  "nbformat_minor": 0,
  "metadata": {
    "colab": {
      "name": "DataCleaner.ipynb",
      "provenance": [],
      "collapsed_sections": []
    },
    "kernelspec": {
      "name": "python3",
      "display_name": "Python 3"
    },
    "language_info": {
      "name": "python"
    }
  },
  "cells": [
    {
      "cell_type": "code",
      "metadata": {
        "id": "VzxfqgDG4QXB",
        "colab": {
          "base_uri": "https://localhost:8080/"
        },
        "outputId": "790dab2c-e535-4545-dcc8-4196862df157"
      },
      "source": [
        "!gdown --id 1Zn6q2yvbs3mF0O3jfxznglixlF18R_dl\n",
        "!unzip 2110446-data-science-and-data-engineering-2021"
      ],
      "execution_count": null,
      "outputs": [
        {
          "output_type": "stream",
          "text": [
            "Downloading...\n",
            "From: https://drive.google.com/uc?id=1Zn6q2yvbs3mF0O3jfxznglixlF18R_dl\n",
            "To: /content/2110446-data-science-and-data-engineering-2021.zip\n",
            "156MB [00:01, 85.4MB/s]\n",
            "Archive:  2110446-data-science-and-data-engineering-2021.zip\n",
            "  inflating: PM2.5_kaggle 2021/Bangkok/Test/3H_temperature_Bangkok.csv  \n",
            "  inflating: PM2.5_kaggle 2021/Bangkok/Test/3H_wind_Bangkok.csv  \n",
            "  inflating: PM2.5_kaggle 2021/Bangkok/Test/Bangkok.txt  \n",
            "  inflating: PM2.5_kaggle 2021/Bangkok/Train/3H_temperature_Bangkok.csv  \n",
            "  inflating: PM2.5_kaggle 2021/Bangkok/Train/3H_wind_Bangkok.csv  \n",
            "  inflating: PM2.5_kaggle 2021/Bangkok/Train/Bangkok.txt  \n",
            "  inflating: PM2.5_kaggle 2021/Chanthaburi/Test/3H_temperature_Chanthaburi.csv  \n",
            "  inflating: PM2.5_kaggle 2021/Chanthaburi/Test/3H_wind_Chanthaburi.csv  \n",
            "  inflating: PM2.5_kaggle 2021/Chanthaburi/Test/Chanthaburi.txt  \n",
            "  inflating: PM2.5_kaggle 2021/Chanthaburi/Train/3H_temperature_Chanthaburi.csv  \n",
            "  inflating: PM2.5_kaggle 2021/Chanthaburi/Train/3H_wind_Chanthaburi.csv  \n",
            "  inflating: PM2.5_kaggle 2021/Chanthaburi/Train/Chanthaburi.txt  \n",
            "  inflating: PM2.5_kaggle 2021/Chiang Mai/Test/3H_temperature_Chiang Mai.csv  \n",
            "  inflating: PM2.5_kaggle 2021/Chiang Mai/Test/3H_wind_Chiang Mai.csv  \n",
            "  inflating: PM2.5_kaggle 2021/Chiang Mai/Test/Chiang_Mai.txt  \n",
            "  inflating: PM2.5_kaggle 2021/Chiang Mai/Train/3H_temperature_Chiang Mai.csv  \n",
            "  inflating: PM2.5_kaggle 2021/Chiang Mai/Train/3H_wind_Chiang Mai.csv  \n",
            "  inflating: PM2.5_kaggle 2021/Chiang Mai/Train/Chiang_Mai.txt  \n",
            "  inflating: PM2.5_kaggle 2021/Fire hotspot/fire_archive_M6_163549.csv  \n",
            "  inflating: PM2.5_kaggle 2021/Fire hotspot/fire_archive_V1_163551.csv  \n",
            "  inflating: PM2.5_kaggle 2021/Fire hotspot/fire_nrt_J1V-C2_163550.csv  \n",
            "  inflating: PM2.5_kaggle 2021/Fire hotspot/fire_nrt_M6_163549.csv  \n",
            "  inflating: PM2.5_kaggle 2021/Fire hotspot/fire_nrt_V1_163551.csv  \n",
            "  inflating: PM2.5_kaggle 2021/Fire hotspot/viirs-snpp_2016_Cambodia.csv  \n",
            "  inflating: PM2.5_kaggle 2021/Fire hotspot/viirs-snpp_2016_Lao_PDR.csv  \n",
            "  inflating: PM2.5_kaggle 2021/Fire hotspot/viirs-snpp_2016_Myanmar.csv  \n",
            "  inflating: PM2.5_kaggle 2021/Fire hotspot/viirs-snpp_2016_Thailand.csv  \n",
            "  inflating: PM2.5_kaggle 2021/Fire hotspot/viirs-snpp_2017_Cambodia.csv  \n",
            "  inflating: PM2.5_kaggle 2021/Fire hotspot/viirs-snpp_2017_Lao_PDR.csv  \n",
            "  inflating: PM2.5_kaggle 2021/Fire hotspot/viirs-snpp_2017_Myanmar.csv  \n",
            "  inflating: PM2.5_kaggle 2021/Fire hotspot/viirs-snpp_2017_Thailand.csv  \n",
            "  inflating: PM2.5_kaggle 2021/Fire hotspot/viirs-snpp_2018_Cambodia.csv  \n",
            "  inflating: PM2.5_kaggle 2021/Fire hotspot/viirs-snpp_2018_Lao_PDR.csv  \n",
            "  inflating: PM2.5_kaggle 2021/Fire hotspot/viirs-snpp_2018_Myanmar.csv  \n",
            "  inflating: PM2.5_kaggle 2021/Fire hotspot/viirs-snpp_2018_Thailand.csv  \n",
            "  inflating: PM2.5_kaggle 2021/Fire hotspot/viirs-snpp_2019_Cambodia.csv  \n",
            "  inflating: PM2.5_kaggle 2021/Fire hotspot/viirs-snpp_2019_Lao_PDR.csv  \n",
            "  inflating: PM2.5_kaggle 2021/Fire hotspot/viirs-snpp_2019_Myanmar.csv  \n",
            "  inflating: PM2.5_kaggle 2021/Fire hotspot/viirs-snpp_2019_Thailand.csv  \n",
            "  inflating: PM2.5_kaggle 2021/Kanchanaburi/Test/3H_temperature_Kanchanaburi.csv  \n",
            "  inflating: PM2.5_kaggle 2021/Kanchanaburi/Test/3H_wind_Kanchanaburi.csv  \n",
            "  inflating: PM2.5_kaggle 2021/Kanchanaburi/Test/Kanchanaburi.txt  \n",
            "  inflating: PM2.5_kaggle 2021/Kanchanaburi/Train/3H_temperature_Kanchanaburi.csv  \n",
            "  inflating: PM2.5_kaggle 2021/Kanchanaburi/Train/3H_wind_Kanchanaburi.csv  \n",
            "  inflating: PM2.5_kaggle 2021/Kanchanaburi/Train/Kanchanaburi.txt  \n",
            "  inflating: PM2.5_kaggle 2021/Khon Kaen/Test/3H_temperature_Khon Kaen.csv  \n",
            "  inflating: PM2.5_kaggle 2021/Khon Kaen/Test/3H_wind_Khon Kaen.csv  \n",
            "  inflating: PM2.5_kaggle 2021/Khon Kaen/Test/Khon_Kaen.txt  \n",
            "  inflating: PM2.5_kaggle 2021/Khon Kaen/Train/3H_temperature_Khon Kaen.csv  \n",
            "  inflating: PM2.5_kaggle 2021/Khon Kaen/Train/3H_wind_Khon Kaen.csv  \n",
            "  inflating: PM2.5_kaggle 2021/Khon Kaen/Train/Khon_Kaen.txt  \n",
            "  inflating: PM2.5_kaggle 2021/Songkhla/Test/3H_temperature_Songkhla.csv  \n",
            "  inflating: PM2.5_kaggle 2021/Songkhla/Test/3H_wind_Songkhla.csv  \n",
            "  inflating: PM2.5_kaggle 2021/Songkhla/Test/Songkhla.txt  \n",
            "  inflating: PM2.5_kaggle 2021/Songkhla/Train/3H_temperature_Songkhla.csv  \n",
            "  inflating: PM2.5_kaggle 2021/Songkhla/Train/3H_wind_Songkhla.csv  \n",
            "  inflating: PM2.5_kaggle 2021/Songkhla/Train/Songkhla.txt  \n",
            "  inflating: PM2.5_kaggle 2021/submission_example_Chanthaburi_3days.xlsx  \n",
            "  inflating: PM2.5_kaggle 2021/submission_example_Kaggle.csv  \n"
          ],
          "name": "stdout"
        }
      ]
    },
    {
      "cell_type": "code",
      "metadata": {
        "id": "KaN9moR74W7W"
      },
      "source": [
        "import os\n",
        "import pandas as pd\n",
        "import matplotlib.pyplot as plt\n",
        "import numpy as np\n",
        "\n",
        "from datetime import datetime, timedelta\n",
        "\n",
        "def DataCleaner(prv,Train_Test) :\n",
        "    province = prv\n",
        "    province_pm = prv\n",
        "    if province.lower() == 'chiangmai' :\n",
        "        province = 'Chiang Mai'\n",
        "        province_pm = 'Chiang_Mai'\n",
        "    elif province.lower() == 'khonkaen' :\n",
        "        province = 'Khon Kaen'\n",
        "        province_pm = 'Khon_Kaen'\n",
        "\n",
        "    # temperature\n",
        "    df_temp = pd.read_csv('PM2.5_kaggle 2021/'+province+'/'+Train_Test+'/3H_temperature_'+province+'.csv')\n",
        "    df_temp['datetime'] = pd.to_datetime(df_temp['datetime'], format='%Y-%m-%d %H:%M:%S', errors='ignore')\n",
        "    df_temp['lat'] = np.round(df_temp['lat'],4)\n",
        "    df_temp['long'] = np.round(df_temp['long'],4)\n",
        "\n",
        "    # wind\n",
        "    df_wind = pd.read_csv('PM2.5_kaggle 2021/'+province+'/'+Train_Test+'/3H_wind_'+province+'.csv')\n",
        "    df_wind['datetime'] = pd.to_datetime(df_wind['datetime'], format='%Y-%m-%d %H:%M:%S', errors='ignore')\n",
        "    df_wind['lat'] = np.round(df_wind['lat'],4)\n",
        "    df_wind['long'] = np.round(df_wind['long'],4)\n",
        "\n",
        "    # PM2.5\n",
        "    pm = open('PM2.5_kaggle 2021/'+province+'/'+Train_Test+'/' + province_pm + '.txt','r')\n",
        "    df_pm = []\n",
        "    for line in pm :\n",
        "        if line[0] == '%' :\n",
        "            continue\n",
        "        else :\n",
        "            row = line.split()\n",
        "            format_time = row[0] + \"-\" + row[1] + \"-\" + row[2] + \" \" + str(int(row[3])) + \":00:00\"\n",
        "            format_time = pd.to_datetime(format_time, format='%Y-%m-%d %H:%M:%S', errors='ignore')\n",
        "            format_time = format_time + timedelta(hours=7)\n",
        "            format_row = [format_time,float(row[4])]\n",
        "            df_pm.append(format_row)\n",
        "    pm.close()\n",
        "    df_pm = pd.DataFrame(df_pm,columns=['datetime','PM2.5'])\n",
        "    df_pm['datetime'] = df_pm['datetime'].apply(lambda x: x.strftime('%Y-%m-%d %H:%M:%S'))\n",
        "\n",
        "    # merge\n",
        "    df = pd.merge(df_temp, df_wind,  how='left', left_on=['datetime','lat','long'], right_on = ['datetime','lat','long'])\n",
        "    df['datetime'] = df['datetime'].apply(lambda x: x.strftime('%Y-%m-%d %H:%M:%S'))\n",
        "    df = df.set_index('datetime').join(df_pm.set_index('datetime'), on='datetime', how='outer', sort=True)\n",
        "    df.reset_index(drop=True, inplace=True)\n",
        "\n",
        "    # clear outliner\n",
        "    df.loc[df['PM2.5'] > 250, 'PM2.5'] = None\n",
        "    df['PM2.5'].interpolate('linear')\n",
        "\n",
        "    # add disappeared row\n",
        "    df['datetime'] = pd.to_datetime(df['datetime'], format='%Y-%m-%d %H:%M:%S', errors='ignore')\n",
        "    df = df.resample('1h', on='datetime').mean()\n",
        "    df.reset_index(drop=False, inplace=True)\n",
        "\n",
        "    # clean Na\n",
        "    df['Temp(C)'] = df['Temp(C)'].interpolate('linear')\n",
        "    df['WindDir'] = df['WindDir'].interpolate('linear')\n",
        "    df['Wind Speed(km/h)'] = df['Wind Speed(km/h)'].interpolate('linear')\n",
        "    df['PM2.5'] = df['PM2.5'].interpolate('linear')\n",
        "    df['lat'] = df['lat'].fillna(df['lat'].mean())\n",
        "    df['long'] = df['long'].fillna(df['long'].mean())\n",
        "    df = df.fillna(df.mean())\n",
        "\n",
        "    df['datetime'] = df['datetime'].apply(lambda x: x.strftime('%Y-%m-%d %H:%M:%S'))\n",
        "    df.drop(['lat','long'],inplace=True,axis=1)\n",
        "    # display(df.head(2))\n",
        "    \n",
        "    return df\n"
      ],
      "execution_count": null,
      "outputs": []
    },
    {
      "cell_type": "code",
      "metadata": {
        "id": "qHBaj2OWXWkE",
        "colab": {
          "base_uri": "https://localhost:8080/"
        },
        "outputId": "f9d64d58-2183-4534-dc0c-1beaf106933f"
      },
      "source": [
        "prvs = ['Chanthaburi','Chiangmai','Kanchanaburi','Bangkok','Khonkaen','Songkhla']\n",
        "\n",
        "for prv in prvs :\n",
        "    for t in ['Train','Test'] :\n",
        "        df = DataCleaner(prv,t)\n",
        "        print(prv,t,list(df.columns))\n",
        "        if df.isna().sum().sum() != 0 : # check na\n",
        "            print(prv,t)\n"
      ],
      "execution_count": null,
      "outputs": [
        {
          "output_type": "stream",
          "text": [
            "/usr/local/lib/python3.7/dist-packages/ipykernel_launcher.py:69: FutureWarning: DataFrame.mean and DataFrame.median with numeric_only=None will include datetime64 and datetime64tz columns in a future version.\n"
          ],
          "name": "stderr"
        },
        {
          "output_type": "stream",
          "text": [
            "Chanthaburi Train ['datetime', 'Temp(C)', 'WindDir', 'Wind Speed(km/h)', 'PM2.5']\n"
          ],
          "name": "stdout"
        },
        {
          "output_type": "stream",
          "text": [
            "/usr/local/lib/python3.7/dist-packages/ipykernel_launcher.py:69: FutureWarning: DataFrame.mean and DataFrame.median with numeric_only=None will include datetime64 and datetime64tz columns in a future version.\n"
          ],
          "name": "stderr"
        },
        {
          "output_type": "stream",
          "text": [
            "Chanthaburi Test ['datetime', 'Temp(C)', 'WindDir', 'Wind Speed(km/h)', 'PM2.5']\n"
          ],
          "name": "stdout"
        },
        {
          "output_type": "stream",
          "text": [
            "/usr/local/lib/python3.7/dist-packages/ipykernel_launcher.py:69: FutureWarning: DataFrame.mean and DataFrame.median with numeric_only=None will include datetime64 and datetime64tz columns in a future version.\n"
          ],
          "name": "stderr"
        },
        {
          "output_type": "stream",
          "text": [
            "Chiangmai Train ['datetime', 'Temp(C)', 'WindDir', 'Wind Speed(km/h)', 'PM2.5']\n"
          ],
          "name": "stdout"
        },
        {
          "output_type": "stream",
          "text": [
            "/usr/local/lib/python3.7/dist-packages/ipykernel_launcher.py:69: FutureWarning: DataFrame.mean and DataFrame.median with numeric_only=None will include datetime64 and datetime64tz columns in a future version.\n"
          ],
          "name": "stderr"
        },
        {
          "output_type": "stream",
          "text": [
            "Chiangmai Test ['datetime', 'Temp(C)', 'WindDir', 'Wind Speed(km/h)', 'PM2.5']\n"
          ],
          "name": "stdout"
        },
        {
          "output_type": "stream",
          "text": [
            "/usr/local/lib/python3.7/dist-packages/ipykernel_launcher.py:69: FutureWarning: DataFrame.mean and DataFrame.median with numeric_only=None will include datetime64 and datetime64tz columns in a future version.\n"
          ],
          "name": "stderr"
        },
        {
          "output_type": "stream",
          "text": [
            "Kanchanaburi Train ['datetime', 'Temp(C)', 'WindDir', 'Wind Speed(km/h)', 'PM2.5']\n"
          ],
          "name": "stdout"
        },
        {
          "output_type": "stream",
          "text": [
            "/usr/local/lib/python3.7/dist-packages/ipykernel_launcher.py:69: FutureWarning: DataFrame.mean and DataFrame.median with numeric_only=None will include datetime64 and datetime64tz columns in a future version.\n"
          ],
          "name": "stderr"
        },
        {
          "output_type": "stream",
          "text": [
            "Kanchanaburi Test ['datetime', 'Temp(C)', 'WindDir', 'Wind Speed(km/h)', 'PM2.5']\n"
          ],
          "name": "stdout"
        },
        {
          "output_type": "stream",
          "text": [
            "/usr/local/lib/python3.7/dist-packages/ipykernel_launcher.py:69: FutureWarning: DataFrame.mean and DataFrame.median with numeric_only=None will include datetime64 and datetime64tz columns in a future version.\n"
          ],
          "name": "stderr"
        },
        {
          "output_type": "stream",
          "text": [
            "Bangkok Train ['datetime', 'Temp(C)', 'WindDir', 'Wind Speed(km/h)', 'PM2.5']\n"
          ],
          "name": "stdout"
        },
        {
          "output_type": "stream",
          "text": [
            "/usr/local/lib/python3.7/dist-packages/ipykernel_launcher.py:69: FutureWarning: DataFrame.mean and DataFrame.median with numeric_only=None will include datetime64 and datetime64tz columns in a future version.\n"
          ],
          "name": "stderr"
        },
        {
          "output_type": "stream",
          "text": [
            "Bangkok Test ['datetime', 'Temp(C)', 'WindDir', 'Wind Speed(km/h)', 'PM2.5']\n"
          ],
          "name": "stdout"
        },
        {
          "output_type": "stream",
          "text": [
            "/usr/local/lib/python3.7/dist-packages/ipykernel_launcher.py:69: FutureWarning: DataFrame.mean and DataFrame.median with numeric_only=None will include datetime64 and datetime64tz columns in a future version.\n"
          ],
          "name": "stderr"
        },
        {
          "output_type": "stream",
          "text": [
            "Khonkaen Train ['datetime', 'Temp(C)', 'WindDir', 'Wind Speed(km/h)', 'PM2.5']\n"
          ],
          "name": "stdout"
        },
        {
          "output_type": "stream",
          "text": [
            "/usr/local/lib/python3.7/dist-packages/ipykernel_launcher.py:69: FutureWarning: DataFrame.mean and DataFrame.median with numeric_only=None will include datetime64 and datetime64tz columns in a future version.\n"
          ],
          "name": "stderr"
        },
        {
          "output_type": "stream",
          "text": [
            "Khonkaen Test ['datetime', 'Temp(C)', 'WindDir', 'Wind Speed(km/h)', 'PM2.5']\n"
          ],
          "name": "stdout"
        },
        {
          "output_type": "stream",
          "text": [
            "/usr/local/lib/python3.7/dist-packages/ipykernel_launcher.py:69: FutureWarning: DataFrame.mean and DataFrame.median with numeric_only=None will include datetime64 and datetime64tz columns in a future version.\n"
          ],
          "name": "stderr"
        },
        {
          "output_type": "stream",
          "text": [
            "Songkhla Train ['datetime', 'Temp(C)', 'WindDir', 'Wind Speed(km/h)', 'PM2.5']\n",
            "Songkhla Test ['datetime', 'Temp(C)', 'WindDir', 'Wind Speed(km/h)', 'PM2.5']\n"
          ],
          "name": "stdout"
        },
        {
          "output_type": "stream",
          "text": [
            "/usr/local/lib/python3.7/dist-packages/ipykernel_launcher.py:69: FutureWarning: DataFrame.mean and DataFrame.median with numeric_only=None will include datetime64 and datetime64tz columns in a future version.\n"
          ],
          "name": "stderr"
        }
      ]
    },
    {
      "cell_type": "code",
      "metadata": {
        "colab": {
          "base_uri": "https://localhost:8080/",
          "height": 453
        },
        "id": "DOTsrCDMW9At",
        "outputId": "e7f35bd5-3aa0-4915-ca87-056f8d94292e"
      },
      "source": [
        "df_kk = DataCleaner('Khonkaen','Train')\n",
        "df_kk"
      ],
      "execution_count": null,
      "outputs": [
        {
          "output_type": "stream",
          "text": [
            "/usr/local/lib/python3.7/dist-packages/ipykernel_launcher.py:69: FutureWarning: DataFrame.mean and DataFrame.median with numeric_only=None will include datetime64 and datetime64tz columns in a future version.\n"
          ],
          "name": "stderr"
        },
        {
          "output_type": "execute_result",
          "data": {
            "text/html": [
              "<div>\n",
              "<style scoped>\n",
              "    .dataframe tbody tr th:only-of-type {\n",
              "        vertical-align: middle;\n",
              "    }\n",
              "\n",
              "    .dataframe tbody tr th {\n",
              "        vertical-align: top;\n",
              "    }\n",
              "\n",
              "    .dataframe thead th {\n",
              "        text-align: right;\n",
              "    }\n",
              "</style>\n",
              "<table border=\"1\" class=\"dataframe\">\n",
              "  <thead>\n",
              "    <tr style=\"text-align: right;\">\n",
              "      <th></th>\n",
              "      <th>datetime</th>\n",
              "      <th>Temp(C)</th>\n",
              "      <th>WindDir</th>\n",
              "      <th>Wind Speed(km/h)</th>\n",
              "      <th>PM2.5</th>\n",
              "    </tr>\n",
              "  </thead>\n",
              "  <tbody>\n",
              "    <tr>\n",
              "      <th>0</th>\n",
              "      <td>2016-03-03 01:00:00</td>\n",
              "      <td>23.100000</td>\n",
              "      <td>80.000000</td>\n",
              "      <td>4.000000</td>\n",
              "      <td>31.081876</td>\n",
              "    </tr>\n",
              "    <tr>\n",
              "      <th>1</th>\n",
              "      <td>2016-03-03 02:00:00</td>\n",
              "      <td>22.400000</td>\n",
              "      <td>58.333333</td>\n",
              "      <td>4.666667</td>\n",
              "      <td>31.081876</td>\n",
              "    </tr>\n",
              "    <tr>\n",
              "      <th>2</th>\n",
              "      <td>2016-03-03 03:00:00</td>\n",
              "      <td>21.700000</td>\n",
              "      <td>36.666667</td>\n",
              "      <td>5.333333</td>\n",
              "      <td>31.081876</td>\n",
              "    </tr>\n",
              "    <tr>\n",
              "      <th>3</th>\n",
              "      <td>2016-03-03 04:00:00</td>\n",
              "      <td>21.000000</td>\n",
              "      <td>15.000000</td>\n",
              "      <td>6.000000</td>\n",
              "      <td>31.081876</td>\n",
              "    </tr>\n",
              "    <tr>\n",
              "      <th>4</th>\n",
              "      <td>2016-03-03 05:00:00</td>\n",
              "      <td>20.966667</td>\n",
              "      <td>35.000000</td>\n",
              "      <td>6.666667</td>\n",
              "      <td>31.081876</td>\n",
              "    </tr>\n",
              "    <tr>\n",
              "      <th>...</th>\n",
              "      <td>...</td>\n",
              "      <td>...</td>\n",
              "      <td>...</td>\n",
              "      <td>...</td>\n",
              "      <td>...</td>\n",
              "    </tr>\n",
              "    <tr>\n",
              "      <th>26641</th>\n",
              "      <td>2019-03-18 02:00:00</td>\n",
              "      <td>32.000000</td>\n",
              "      <td>125.000000</td>\n",
              "      <td>5.000000</td>\n",
              "      <td>78.200000</td>\n",
              "    </tr>\n",
              "    <tr>\n",
              "      <th>26642</th>\n",
              "      <td>2019-03-18 03:00:00</td>\n",
              "      <td>32.000000</td>\n",
              "      <td>125.000000</td>\n",
              "      <td>5.000000</td>\n",
              "      <td>80.000000</td>\n",
              "    </tr>\n",
              "    <tr>\n",
              "      <th>26643</th>\n",
              "      <td>2019-03-18 04:00:00</td>\n",
              "      <td>32.000000</td>\n",
              "      <td>125.000000</td>\n",
              "      <td>5.000000</td>\n",
              "      <td>85.500000</td>\n",
              "    </tr>\n",
              "    <tr>\n",
              "      <th>26644</th>\n",
              "      <td>2019-03-18 05:00:00</td>\n",
              "      <td>32.000000</td>\n",
              "      <td>125.000000</td>\n",
              "      <td>5.000000</td>\n",
              "      <td>88.300000</td>\n",
              "    </tr>\n",
              "    <tr>\n",
              "      <th>26645</th>\n",
              "      <td>2019-03-18 06:00:00</td>\n",
              "      <td>32.000000</td>\n",
              "      <td>125.000000</td>\n",
              "      <td>5.000000</td>\n",
              "      <td>100.100000</td>\n",
              "    </tr>\n",
              "  </tbody>\n",
              "</table>\n",
              "<p>26646 rows × 5 columns</p>\n",
              "</div>"
            ],
            "text/plain": [
              "                  datetime    Temp(C)     WindDir  Wind Speed(km/h)       PM2.5\n",
              "0      2016-03-03 01:00:00  23.100000   80.000000          4.000000   31.081876\n",
              "1      2016-03-03 02:00:00  22.400000   58.333333          4.666667   31.081876\n",
              "2      2016-03-03 03:00:00  21.700000   36.666667          5.333333   31.081876\n",
              "3      2016-03-03 04:00:00  21.000000   15.000000          6.000000   31.081876\n",
              "4      2016-03-03 05:00:00  20.966667   35.000000          6.666667   31.081876\n",
              "...                    ...        ...         ...               ...         ...\n",
              "26641  2019-03-18 02:00:00  32.000000  125.000000          5.000000   78.200000\n",
              "26642  2019-03-18 03:00:00  32.000000  125.000000          5.000000   80.000000\n",
              "26643  2019-03-18 04:00:00  32.000000  125.000000          5.000000   85.500000\n",
              "26644  2019-03-18 05:00:00  32.000000  125.000000          5.000000   88.300000\n",
              "26645  2019-03-18 06:00:00  32.000000  125.000000          5.000000  100.100000\n",
              "\n",
              "[26646 rows x 5 columns]"
            ]
          },
          "metadata": {
            "tags": []
          },
          "execution_count": 4
        }
      ]
    },
    {
      "cell_type": "code",
      "metadata": {
        "id": "J3fUNG7MXd4T",
        "colab": {
          "base_uri": "https://localhost:8080/"
        },
        "outputId": "5ae78e33-1f61-46b1-d467-cbb1174e89b1"
      },
      "source": [
        "fmt_prvs = ['bangkok','chanthaburi','chiangmai','kanchanaburi','khonkaen','songkhla']\n",
        "\n",
        "os.makedirs('Train')\n",
        "os.makedirs('Test')\n",
        "\n",
        "for i in range(len(fmt_prvs)) :\n",
        "    for t in ['Train','Test'] :\n",
        "        df = DataCleaner(prvs[i],t)\n",
        "        df.to_csv(t+'/'+fmt_prvs[i]+'_'+t+'.csv', index=False)"
      ],
      "execution_count": null,
      "outputs": [
        {
          "output_type": "stream",
          "text": [
            "/usr/local/lib/python3.7/dist-packages/ipykernel_launcher.py:69: FutureWarning: DataFrame.mean and DataFrame.median with numeric_only=None will include datetime64 and datetime64tz columns in a future version.\n",
            "/usr/local/lib/python3.7/dist-packages/ipykernel_launcher.py:69: FutureWarning: DataFrame.mean and DataFrame.median with numeric_only=None will include datetime64 and datetime64tz columns in a future version.\n",
            "/usr/local/lib/python3.7/dist-packages/ipykernel_launcher.py:69: FutureWarning: DataFrame.mean and DataFrame.median with numeric_only=None will include datetime64 and datetime64tz columns in a future version.\n",
            "/usr/local/lib/python3.7/dist-packages/ipykernel_launcher.py:69: FutureWarning: DataFrame.mean and DataFrame.median with numeric_only=None will include datetime64 and datetime64tz columns in a future version.\n",
            "/usr/local/lib/python3.7/dist-packages/ipykernel_launcher.py:69: FutureWarning: DataFrame.mean and DataFrame.median with numeric_only=None will include datetime64 and datetime64tz columns in a future version.\n",
            "/usr/local/lib/python3.7/dist-packages/ipykernel_launcher.py:69: FutureWarning: DataFrame.mean and DataFrame.median with numeric_only=None will include datetime64 and datetime64tz columns in a future version.\n",
            "/usr/local/lib/python3.7/dist-packages/ipykernel_launcher.py:69: FutureWarning: DataFrame.mean and DataFrame.median with numeric_only=None will include datetime64 and datetime64tz columns in a future version.\n",
            "/usr/local/lib/python3.7/dist-packages/ipykernel_launcher.py:69: FutureWarning: DataFrame.mean and DataFrame.median with numeric_only=None will include datetime64 and datetime64tz columns in a future version.\n",
            "/usr/local/lib/python3.7/dist-packages/ipykernel_launcher.py:69: FutureWarning: DataFrame.mean and DataFrame.median with numeric_only=None will include datetime64 and datetime64tz columns in a future version.\n",
            "/usr/local/lib/python3.7/dist-packages/ipykernel_launcher.py:69: FutureWarning: DataFrame.mean and DataFrame.median with numeric_only=None will include datetime64 and datetime64tz columns in a future version.\n",
            "/usr/local/lib/python3.7/dist-packages/ipykernel_launcher.py:69: FutureWarning: DataFrame.mean and DataFrame.median with numeric_only=None will include datetime64 and datetime64tz columns in a future version.\n",
            "/usr/local/lib/python3.7/dist-packages/ipykernel_launcher.py:69: FutureWarning: DataFrame.mean and DataFrame.median with numeric_only=None will include datetime64 and datetime64tz columns in a future version.\n"
          ],
          "name": "stderr"
        }
      ]
    },
    {
      "cell_type": "code",
      "metadata": {
        "colab": {
          "base_uri": "https://localhost:8080/"
        },
        "id": "k0eiXv32aBM4",
        "outputId": "6cdb0302-fff0-4bbd-cb3e-706e38aef61e"
      },
      "source": [
        "!zip -r data ./Train ./Test"
      ],
      "execution_count": null,
      "outputs": [
        {
          "output_type": "stream",
          "text": [
            "  adding: Train/ (stored 0%)\n",
            "  adding: Train/bangkok_Train.csv (deflated 83%)\n",
            "  adding: Train/chiangmai_Train.csv (deflated 82%)\n",
            "  adding: Train/chanthaburi_Train.csv (deflated 82%)\n",
            "  adding: Train/songkhla_Train.csv (deflated 83%)\n",
            "  adding: Train/khonkaen_Train.csv (deflated 80%)\n",
            "  adding: Train/kanchanaburi_Train.csv (deflated 82%)\n",
            "  adding: Test/ (stored 0%)\n",
            "  adding: Test/kanchanaburi_Test.csv (deflated 82%)\n",
            "  adding: Test/chiangmai_Test.csv (deflated 82%)\n",
            "  adding: Test/chanthaburi_Test.csv (deflated 82%)\n",
            "  adding: Test/khonkaen_Test.csv (deflated 82%)\n",
            "  adding: Test/bangkok_Test.csv (deflated 82%)\n",
            "  adding: Test/songkhla_Test.csv (deflated 83%)\n"
          ],
          "name": "stdout"
        }
      ]
    },
    {
      "cell_type": "code",
      "metadata": {
        "id": "bd9dmszmac5z"
      },
      "source": [
        ""
      ],
      "execution_count": null,
      "outputs": []
    }
  ]
}